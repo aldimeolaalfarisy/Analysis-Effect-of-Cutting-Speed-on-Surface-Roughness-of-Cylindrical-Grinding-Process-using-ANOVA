{
 "cells": [
  {
   "cell_type": "markdown",
   "id": "978cb621",
   "metadata": {},
   "source": [
    "# Analysis the effect of cutting speed on the surface roughness of objects from cylindrical grinding process using ANOVA method"
   ]
  },
  {
   "cell_type": "markdown",
   "id": "fb92b35c",
   "metadata": {},
   "source": [
    "Manufacturing is a dynamic sector. Improvements in both product and process must continue with the final objective always to gain customer satisfaction. The most common way of improving processes and products is by conducting experiments, the results of which are used as the basis for making improvements.\n",
    "\n",
    "**ANOVA (Analysis  of Variance)** is one of the most frequently used experimental methods for various sectors, including the manufacturing sector. ANOVA can be used to analyze the effect of process parameters on the product of the process, one of them is in the grinding process.\n",
    "\n",
    "In this case, we will analyze one of the grinding process parameters, which is the cutting speed, if it affects the surface roughness of the material."
   ]
  },
  {
   "cell_type": "markdown",
   "id": "7d97a7c7",
   "metadata": {},
   "source": [
    "## Experiment Design"
   ]
  },
  {
   "cell_type": "markdown",
   "id": "76f381c9",
   "metadata": {},
   "source": [
    "The specimen used for the experiment is a cylindrical specimen with a material type of Low Alloy steel that has been hardened to 56 HRC with the following dimensional conditions:"
   ]
  },
  {
   "attachments": {
    "Workpiece.png": {
     "image/png": "[encoded data removed]"
    }
   },
   "cell_type": "markdown",
   "id": "0258d840",
   "metadata": {},
   "source": [
    "![Workpiece.png](attachment:Workpiece.png)"
   ]
  },
  {
   "cell_type": "markdown",
   "id": "e8156e2d",
   "metadata": {},
   "source": [
    "- D (Initial diameter) = 60 mm\n",
    "- d (Final diameter) = 59.7 mm\n",
    "- a (Depth of cut) = 0.3 mm\n",
    "- L (Grinding length) = 192 mm"
   ]
  },
  {
   "cell_type": "markdown",
   "id": "cdaf64a2",
   "metadata": {},
   "source": [
    "The parameter to be tested is the **cutting speed (m/min)**. Cutting speed is the value required to determine the speed of cutting on the workpiece. Based on the reference from Machinery's Handbook 29th Edition - Industrial Press in 2012 that the recommended cutting speed for the material we have is 21 m/min. So that the combination of cutting speed quantities that we test is:\n",
    "\n",
    "- 17 m/min\n",
    "- 19 m/min\n",
    "- 21 m/min\n",
    "\n",
    "While for the feed rate, the feed rate is used at 1100 mm/min"
   ]
  },
  {
   "cell_type": "code",
   "execution_count": 1,
   "id": "3ff1c217",
   "metadata": {},
   "outputs": [],
   "source": [
    "# Import required libraries\n",
    "\n",
    "import pandas as pd\n",
    "import seaborn as sns\n",
    "import matplotlib.pyplot as plt\n",
    "import scipy.stats as st"
   ]
  },
  {
   "cell_type": "code",
   "execution_count": 2,
   "id": "f7b5c28c",
   "metadata": {
    "scrolled": false
   },
   "outputs": [
    {
     "data": {
      "text/html": [
       "<div>\n",
       "<style scoped>\n",
       "    .dataframe tbody tr th:only-of-type {\n",
       "        vertical-align: middle;\n",
       "    }\n",
       "\n",
       "    .dataframe tbody tr th {\n",
       "        vertical-align: top;\n",
       "    }\n",
       "\n",
       "    .dataframe thead th {\n",
       "        text-align: right;\n",
       "    }\n",
       "</style>\n",
       "<table border=\"1\" class=\"dataframe\">\n",
       "  <thead>\n",
       "    <tr style=\"text-align: right;\">\n",
       "      <th></th>\n",
       "      <th>Sample</th>\n",
       "      <th>a</th>\n",
       "      <th>Vc</th>\n",
       "      <th>F</th>\n",
       "      <th>Ra</th>\n",
       "    </tr>\n",
       "  </thead>\n",
       "  <tbody>\n",
       "    <tr>\n",
       "      <th>0</th>\n",
       "      <td>1</td>\n",
       "      <td>0.3</td>\n",
       "      <td>17</td>\n",
       "      <td>1100</td>\n",
       "      <td>2.7</td>\n",
       "    </tr>\n",
       "    <tr>\n",
       "      <th>1</th>\n",
       "      <td>2</td>\n",
       "      <td>0.3</td>\n",
       "      <td>17</td>\n",
       "      <td>1100</td>\n",
       "      <td>2.6</td>\n",
       "    </tr>\n",
       "    <tr>\n",
       "      <th>2</th>\n",
       "      <td>3</td>\n",
       "      <td>0.3</td>\n",
       "      <td>17</td>\n",
       "      <td>1100</td>\n",
       "      <td>2.4</td>\n",
       "    </tr>\n",
       "    <tr>\n",
       "      <th>3</th>\n",
       "      <td>4</td>\n",
       "      <td>0.3</td>\n",
       "      <td>19</td>\n",
       "      <td>1100</td>\n",
       "      <td>3.5</td>\n",
       "    </tr>\n",
       "    <tr>\n",
       "      <th>4</th>\n",
       "      <td>5</td>\n",
       "      <td>0.3</td>\n",
       "      <td>19</td>\n",
       "      <td>1100</td>\n",
       "      <td>3.4</td>\n",
       "    </tr>\n",
       "    <tr>\n",
       "      <th>5</th>\n",
       "      <td>6</td>\n",
       "      <td>0.3</td>\n",
       "      <td>19</td>\n",
       "      <td>1100</td>\n",
       "      <td>2.7</td>\n",
       "    </tr>\n",
       "    <tr>\n",
       "      <th>6</th>\n",
       "      <td>7</td>\n",
       "      <td>0.3</td>\n",
       "      <td>21</td>\n",
       "      <td>1100</td>\n",
       "      <td>3.5</td>\n",
       "    </tr>\n",
       "    <tr>\n",
       "      <th>7</th>\n",
       "      <td>8</td>\n",
       "      <td>0.3</td>\n",
       "      <td>21</td>\n",
       "      <td>1100</td>\n",
       "      <td>3.3</td>\n",
       "    </tr>\n",
       "    <tr>\n",
       "      <th>8</th>\n",
       "      <td>9</td>\n",
       "      <td>0.3</td>\n",
       "      <td>21</td>\n",
       "      <td>1100</td>\n",
       "      <td>4.0</td>\n",
       "    </tr>\n",
       "  </tbody>\n",
       "</table>\n",
       "</div>"
      ],
      "text/plain": [
       "   Sample    a  Vc     F   Ra\n",
       "0       1  0.3  17  1100  2.7\n",
       "1       2  0.3  17  1100  2.6\n",
       "2       3  0.3  17  1100  2.4\n",
       "3       4  0.3  19  1100  3.5\n",
       "4       5  0.3  19  1100  3.4\n",
       "5       6  0.3  19  1100  2.7\n",
       "6       7  0.3  21  1100  3.5\n",
       "7       8  0.3  21  1100  3.3\n",
       "8       9  0.3  21  1100  4.0"
      ]
     },
     "execution_count": 2,
     "metadata": {},
     "output_type": "execute_result"
    }
   ],
   "source": [
    "# Load Data\n",
    "\n",
    "data = pd.read_excel('Data.xlsx')\n",
    "data"
   ]
  },
  {
   "cell_type": "markdown",
   "id": "88a60274",
   "metadata": {},
   "source": [
    "- a = Depth of Cut (mm)\n",
    "- Vc = Cutting Speed (m/min)\n",
    "- F = Feed Rate (mm/min)\n",
    "- Ra = Surface Roughness (µm)"
   ]
  },
  {
   "cell_type": "code",
   "execution_count": 3,
   "id": "1d27d840",
   "metadata": {
    "scrolled": true
   },
   "outputs": [
    {
     "data": {
      "image/png": "[encoded data removed]",
      "text/plain": [
       "<Figure size 720x360 with 1 Axes>"
      ]
     },
     "metadata": {
      "needs_background": "light"
     },
     "output_type": "display_data"
    }
   ],
   "source": [
    "plt.figure(figsize=(10,5))\n",
    "plt.plot(data['Sample'], data['Ra'], color='black', marker='o', linestyle= '--', markerfacecolor='red')\n",
    "plt.title('Graph of Object Sample by Surface Roughness',size=14, fontweight='bold')\n",
    "plt.ylabel('Surface Roughness (µm)')\n",
    "plt.show()"
   ]
  },
  {
   "cell_type": "markdown",
   "id": "8643d5fe",
   "metadata": {},
   "source": [
    "Total samples to be tested are 9 pieces with 3 samples each for one cutting speed value with the surface roughness result for each sample. Based on the results of checking the surface roughness of all samples, cutting speed tends to have a directly proportional value to the surface roughness results even though the results are still quite varied for each sample."
   ]
  },
  {
   "cell_type": "markdown",
   "id": "6fb8d0cd",
   "metadata": {},
   "source": [
    "## Hypothesis Testing"
   ]
  },
  {
   "cell_type": "markdown",
   "id": "0853e0fa",
   "metadata": {},
   "source": [
    "Question: Is the **cutting speed** value affecting the **surface roughness** of the object?\n",
    "\n",
    "- **H0** = Cutting speed has the same surface roughness (**The cutting speed value does not affect the surface roughness value**)\n",
    "- **H1** = Cutting speed has a significantly different surface roughness (**The cutting speed value affects the surface roughness value**)"
   ]
  },
  {
   "cell_type": "markdown",
   "id": "b107dc47",
   "metadata": {},
   "source": [
    "We will determine which hypothesis to take based on the **P-value** (the observed probability of the test statistic) whether it is greater than the **alpha** value (the maximum error determined by the researcher) or not (Most of the references specify that the alpha value is **0.05** or **5%**)."
   ]
  },
  {
   "cell_type": "code",
   "execution_count": 4,
   "id": "3be4728e",
   "metadata": {},
   "outputs": [],
   "source": [
    "# Sorting based on cutting speed values\n",
    "\n",
    "Vc_17 = data[data['Vc'] == 17]\n",
    "Vc_19 = data[data['Vc'] == 19]\n",
    "Vc_21 = data[data['Vc'] == 21]"
   ]
  },
  {
   "cell_type": "code",
   "execution_count": 7,
   "id": "520685ae",
   "metadata": {},
   "outputs": [
    {
     "name": "stdout",
     "output_type": "stream",
     "text": [
      "p_value is 0.03\n",
      " \n",
      "The cutting speed value affects the surface roughness value\n"
     ]
    }
   ],
   "source": [
    "# ANOVA test\n",
    "\n",
    "anova_test = st.f_oneway(Vc_17['Ra'], \n",
    "                         Vc_19['Ra'], \n",
    "                         Vc_21['Ra'])\n",
    "\n",
    "p_value = round(anova_test.pvalue,2)\n",
    "\n",
    "print('p_value is', p_value)\n",
    "print(' ')\n",
    "if p_value > 0.05:\n",
    "    print('The cutting speed value does not affect the surface roughness value')\n",
    "else:\n",
    "    print('The cutting speed value affects the surface roughness value')"
   ]
  },
  {
   "cell_type": "markdown",
   "id": "7565fd06",
   "metadata": {},
   "source": [
    "Based on the results of the P-value, we accept the **alternate hypothesis (H1)**. Then for final conclusion, we can check average cutting speed based on surface roughness value."
   ]
  },
  {
   "cell_type": "code",
   "execution_count": 6,
   "id": "ca40bee0",
   "metadata": {},
   "outputs": [
    {
     "data": {
      "image/png": "[encoded data removed]",
      "text/plain": [
       "<Figure size 432x288 with 1 Axes>"
      ]
     },
     "metadata": {
      "needs_background": "light"
     },
     "output_type": "display_data"
    }
   ],
   "source": [
    "# Final conclusion based on average surface roughness in each cutting speed value\n",
    "\n",
    "bo_mean = data.groupby(['Vc']).mean().reset_index()\n",
    "bar_mean = sns.barplot(x=bo_mean['Vc'],y=bo_mean['Ra'])\n",
    "bar_mean.set(title = \"Average Surface Roughness Based on Cutting Speed Value\")\n",
    "plt.show(bar_mean)"
   ]
  },
  {
   "cell_type": "markdown",
   "id": "9764c255",
   "metadata": {},
   "source": [
    "We get the final conclusion. Based on ANOVA test, we accept the H1 that **cutting speed value has a great effect on the surface roughness of the cylindrical grinding process**, with the **higher cutting speed value used, the greater the average surface roughness of the resulting product**."
   ]
  },
  {
   "cell_type": "markdown",
   "id": "6a6666f8",
   "metadata": {},
   "source": [
    "## Conclusion"
   ]
  },
  {
   "cell_type": "markdown",
   "id": "c788838c",
   "metadata": {},
   "source": [
    "**ANOVA (Analysis of Variance)** is a statistical technique that is used to check if the means of two or more groups are significantly different from each other. ANOVA examines the ratio of variance between groups and the variance within groups to determine whether the ratio is big enough to be statistically significant. The use of the ANOVA method for experiments in manufacturing can be used as a strong basis for making improvements in products and processes."
   ]
  }
 ],
 "metadata": {
  "kernelspec": {
   "display_name": "Python 3 (ipykernel)",
   "language": "python",
   "name": "python3"
  },
  "language_info": {
   "codemirror_mode": {
    "name": "ipython",
    "version": 3
   },
   "file_extension": ".py",
   "mimetype": "text/x-python",
   "name": "python",
   "nbconvert_exporter": "python",
   "pygments_lexer": "ipython3",
   "version": "3.9.12"
  }
 },
 "nbformat": 4,
 "nbformat_minor": 5
}
